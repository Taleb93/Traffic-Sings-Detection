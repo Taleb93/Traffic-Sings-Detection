{
 "cells": [
  {
   "cell_type": "code",
   "execution_count": 1,
   "metadata": {},
   "outputs": [],
   "source": [
    "import os\n",
    "import cv2\n",
    "\n",
    "# Pfade anpassen\n",
    "image_folder = r\"C:\\Uni\\python\\data\\Klassifikation\\33_VorgeschriebeneFahrtrichtungRechts\\33\"\n",
    "label_folder = r\"C:\\Uni\\python\\data\\Klassifikation\\33_labels\\yolo_labels\\renamed_labels\"\n",
    "output_folder = r\"C:\\Uni\\python\\data\\Klassifikation\\33_cropped_images\"\n",
    "\n",
    "# Output-Ordner erstellen, falls nicht vorhanden\n",
    "os.makedirs(output_folder, exist_ok=True)\n",
    "\n",
    "# Bild- und Label-Verarbeitung\n",
    "for label_file in os.listdir(label_folder):\n",
    "    if label_file.endswith(\".txt\"):  # Nur Label-Dateien verarbeiten\n",
    "        image_name = os.path.splitext(label_file)[0] + \".png\"  # Erwarte Bildformat .png\n",
    "        image_path = os.path.join(image_folder, image_name)\n",
    "        label_path = os.path.join(label_folder, label_file)\n",
    "\n",
    "        # Bild laden\n",
    "        if os.path.exists(image_path):\n",
    "            image = cv2.imread(image_path)\n",
    "            h, w, _ = image.shape  # Höhe und Breite des Bildes\n",
    "\n",
    "            # Labels laden und zuschneiden\n",
    "            with open(label_path, \"r\") as file:\n",
    "                lines = file.readlines()\n",
    "                for line in lines:\n",
    "                    class_id, x_center, y_center, width, height = map(float, line.strip().split())\n",
    "\n",
    "                    # YOLO-Koordinaten in Pixel umrechnen\n",
    "                    x_center, y_center = int(x_center * w), int(y_center * h)\n",
    "                    width, height = int(width * w), int(height * h)\n",
    "                    x1, y1 = max(0, x_center - width // 2), max(0, y_center - height // 2)\n",
    "                    x2, y2 = min(w, x_center + width // 2), min(h, y_center + height // 2)\n",
    "\n",
    "                    # Zuschneiden und speichern\n",
    "                    cropped_image = image[y1:y2, x1:x2]\n",
    "                    output_path = os.path.join(output_folder, f\"{os.path.splitext(image_name)[0]}_cropped.png\")\n",
    "                    cv2.imwrite(output_path, cropped_image)\n",
    "        else:\n",
    "            print(f\"Bild {image_name} nicht gefunden!\")\n"
   ]
  },
  {
   "cell_type": "code",
   "execution_count": 2,
   "metadata": {},
   "outputs": [],
   "source": [
    "import os\n",
    "import shutil\n",
    "\n",
    "# Pfade anpassen\n",
    "image_folder = r\"C:\\Uni\\python\\data\\Klassifikation\\33_cropped_images\"\n",
    "label_folder = r\"C:\\Uni\\python\\data\\Klassifikation\\33_labels\\yolo_labels\\renamed_labels\"\n",
    "output_folder = r\"C:\\Uni\\python\\data\\Klassifikation\\classification_ready\"\n",
    "\n",
    "# Output-Ordner erstellen\n",
    "os.makedirs(output_folder, exist_ok=True)\n",
    "\n",
    "# Bilder nach Klassen sortieren\n",
    "for label_file in os.listdir(label_folder):\n",
    "    if label_file.endswith(\".txt\"):\n",
    "        image_name = os.path.splitext(label_file)[0] + \"_cropped.png\"\n",
    "        image_path = os.path.join(image_folder, image_name)\n",
    "        label_path = os.path.join(label_folder, label_file)\n",
    "\n",
    "        if os.path.exists(image_path):\n",
    "            # Klassen-ID aus dem Label lesen\n",
    "            with open(label_path, \"r\") as file:\n",
    "                first_line = file.readline()\n",
    "                class_id = first_line.split()[0]  # Erste Zahl ist die Klassen-ID\n",
    "\n",
    "            # Klasse als Ordner erstellen\n",
    "            class_folder = os.path.join(output_folder, class_id)\n",
    "            os.makedirs(class_folder, exist_ok=True)\n",
    "\n",
    "            # Bild in den Klassenordner verschieben\n",
    "            shutil.move(image_path, os.path.join(class_folder, image_name))\n",
    "        else:\n",
    "            print(f\"Bild {image_name} nicht gefunden!\")\n"
   ]
  },
  {
   "cell_type": "code",
   "execution_count": null,
   "metadata": {},
   "outputs": [],
   "source": [
    "    "
   ]
  }
 ],
 "metadata": {
  "kernelspec": {
   "display_name": "Python 3",
   "language": "python",
   "name": "python3"
  },
  "language_info": {
   "codemirror_mode": {
    "name": "ipython",
    "version": 3
   },
   "file_extension": ".py",
   "mimetype": "text/x-python",
   "name": "python",
   "nbconvert_exporter": "python",
   "pygments_lexer": "ipython3",
   "version": "3.12.5"
  }
 },
 "nbformat": 4,
 "nbformat_minor": 2
}
