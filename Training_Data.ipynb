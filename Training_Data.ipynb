{
 "cells": [
  {
   "cell_type": "code",
   "execution_count": 2,
   "metadata": {},
   "outputs": [],
   "source": [
    "import cv2\n",
    "\n",
    "# Bildpfad\n",
    "image_path = \"7.jpg\"  # Ersetze dies durch den Pfad zu deinem Bild\n",
    "\n",
    "# Bild mit OpenCV lesen\n",
    "image = cv2.imread(image_path)\n",
    "\n",
    "# Überprüfen, ob das Bild erfolgreich geladen wurde\n",
    "if image is None:\n",
    "    print(\"Fehler: Das Bild konnte nicht geladen werden. Überprüfe den Pfad!\")\n",
    "else:\n",
    "    # Bild anzeigen\n",
    "    cv2.imshow(\"Angezeigtes Bild\", image)\n",
    "\n",
    "    # Warten, bis eine Taste gedrückt wird\n",
    "    cv2.waitKey(0)\n",
    "\n",
    "    # Fenster schließen\n",
    "    cv2.destroyAllWindows()\n"
   ]
  },
  {
   "cell_type": "code",
   "execution_count": null,
   "metadata": {},
   "outputs": [],
   "source": []
  }
 ],
 "metadata": {
  "kernelspec": {
   "display_name": "Python 3",
   "language": "python",
   "name": "python3"
  },
  "language_info": {
   "codemirror_mode": {
    "name": "ipython",
    "version": 3
   },
   "file_extension": ".py",
   "mimetype": "text/x-python",
   "name": "python",
   "nbconvert_exporter": "python",
   "pygments_lexer": "ipython3",
   "version": "3.12.5"
  }
 },
 "nbformat": 4,
 "nbformat_minor": 2
}
